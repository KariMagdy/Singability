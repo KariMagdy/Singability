{
 "cells": [
  {
   "cell_type": "code",
   "execution_count": 106,
   "metadata": {},
   "outputs": [],
   "source": [
    "import os\n",
    "import itertools, random\n",
    "\n",
    "class arayi(object):\n",
    "    def __init__(self):\n",
    "        pass\n",
    "    \n",
    "    def generatePairs(self,filePath):\n",
    "        self.x=os.listdir(filePath)\n",
    "        perms=list(itertools.combinations(self.x,2))\n",
    "        return perms\n",
    "        \n",
    "    def generateJobs(self,pairs,tasks):\n",
    "        self.oneJob,self.jobs=[],[]\n",
    "        self.temp=pairs\n",
    "        while len(self.temp) > 0:\n",
    "            if len(self.temp) >= tasks:\n",
    "                self.shuffle=random.sample(self.temp,tasks)\n",
    "                self.jobs+=[self.shuffle]\n",
    "                for pair in self.shuffle:\n",
    "                    self.temp.pop(self.temp.index(pair))\n",
    "            else:\n",
    "                self.jobs+=[self.temp]\n",
    "                break\n",
    "        return self.jobs\n",
    "    \n",
    "    def generateData(self,jobs,csvOut):\n",
    "        ### NEEDS MORE WORK.  MUST SEPARATE PAIRS INTO UNIQUE COLUMNS\n",
    "        print csvOut\n",
    "        fileOut=open(csvOut,\"w\")\n",
    "        jobNumber=len(jobs[0])\n",
    "        fileOut.write(\",\".join([\"link%s\" % x for x in range(1,(jobNumber+1)*2])+\"\\n\")\n",
    "        for job in jobs:\n",
    "            fileOut.write(\",\".join(job)+\"\\n\")\n",
    "        fileOut.close()\n",
    "                "
   ]
  },
  {
   "cell_type": "code",
   "execution_count": 107,
   "metadata": {},
   "outputs": [
    {
     "name": "stdout",
     "output_type": "stream",
     "text": [
      "[[('test1.mp3', 'test2.mp3'), ('test3.mp3', 'test4.mp3'), ('test2.mp3', 'test4.mp3'), ('test1.mp3', 'test3.mp3'), ('test2.mp3', 'test3.mp3')], [('test1.mp3', 'test4.mp3')]]\n",
      "/Users/nus/Documents/GitHub/Singability/data/jobs.csv\n"
     ]
    },
    {
     "ename": "TypeError",
     "evalue": "sequence item 0: expected string, tuple found",
     "output_type": "error",
     "traceback": [
      "\u001b[0;31m---------------------------------------------------------------------------\u001b[0m",
      "\u001b[0;31mTypeError\u001b[0m                                 Traceback (most recent call last)",
      "\u001b[0;32m<ipython-input-107-e83ef65c5b5f>\u001b[0m in \u001b[0;36m<module>\u001b[0;34m()\u001b[0m\n\u001b[1;32m      3\u001b[0m \u001b[0mtheJobs\u001b[0m\u001b[0;34m=\u001b[0m\u001b[0ma\u001b[0m\u001b[0;34m.\u001b[0m\u001b[0mgenerateJobs\u001b[0m\u001b[0;34m(\u001b[0m\u001b[0mx\u001b[0m\u001b[0;34m,\u001b[0m\u001b[0;36m5\u001b[0m\u001b[0;34m)\u001b[0m\u001b[0;34m\u001b[0m\u001b[0m\n\u001b[1;32m      4\u001b[0m \u001b[0;32mprint\u001b[0m \u001b[0mtheJobs\u001b[0m\u001b[0;34m\u001b[0m\u001b[0m\n\u001b[0;32m----> 5\u001b[0;31m \u001b[0ma\u001b[0m\u001b[0;34m.\u001b[0m\u001b[0mgenerateData\u001b[0m\u001b[0;34m(\u001b[0m\u001b[0mtheJobs\u001b[0m\u001b[0;34m,\u001b[0m\u001b[0;34m\"/Users/nus/Documents/GitHub/Singability/data/jobs.csv\"\u001b[0m\u001b[0;34m)\u001b[0m\u001b[0;34m\u001b[0m\u001b[0m\n\u001b[0m",
      "\u001b[0;32m<ipython-input-106-15536887ed33>\u001b[0m in \u001b[0;36mgenerateData\u001b[0;34m(self, jobs, csvOut)\u001b[0m\n\u001b[1;32m     31\u001b[0m         \u001b[0mfileOut\u001b[0m\u001b[0;34m.\u001b[0m\u001b[0mwrite\u001b[0m\u001b[0;34m(\u001b[0m\u001b[0;34m\",\"\u001b[0m\u001b[0;34m.\u001b[0m\u001b[0mjoin\u001b[0m\u001b[0;34m(\u001b[0m\u001b[0;34m[\u001b[0m\u001b[0;34m\"link%s\"\u001b[0m \u001b[0;34m%\u001b[0m \u001b[0mx\u001b[0m \u001b[0;32mfor\u001b[0m \u001b[0mx\u001b[0m \u001b[0;32min\u001b[0m \u001b[0mrange\u001b[0m\u001b[0;34m(\u001b[0m\u001b[0;36m1\u001b[0m\u001b[0;34m,\u001b[0m\u001b[0mjobNumber\u001b[0m\u001b[0;34m+\u001b[0m\u001b[0;36m1\u001b[0m\u001b[0;34m)\u001b[0m\u001b[0;34m]\u001b[0m\u001b[0;34m)\u001b[0m\u001b[0;34m+\u001b[0m\u001b[0;34m\"\\n\"\u001b[0m\u001b[0;34m)\u001b[0m\u001b[0;34m\u001b[0m\u001b[0m\n\u001b[1;32m     32\u001b[0m         \u001b[0;32mfor\u001b[0m \u001b[0mjob\u001b[0m \u001b[0;32min\u001b[0m \u001b[0mjobs\u001b[0m\u001b[0;34m:\u001b[0m\u001b[0;34m\u001b[0m\u001b[0m\n\u001b[0;32m---> 33\u001b[0;31m             \u001b[0mfileOut\u001b[0m\u001b[0;34m.\u001b[0m\u001b[0mwrite\u001b[0m\u001b[0;34m(\u001b[0m\u001b[0;34m\",\"\u001b[0m\u001b[0;34m.\u001b[0m\u001b[0mjoin\u001b[0m\u001b[0;34m(\u001b[0m\u001b[0mjob\u001b[0m\u001b[0;34m)\u001b[0m\u001b[0;34m+\u001b[0m\u001b[0;34m\"\\n\"\u001b[0m\u001b[0;34m)\u001b[0m\u001b[0;34m\u001b[0m\u001b[0m\n\u001b[0m\u001b[1;32m     34\u001b[0m         \u001b[0mfileOut\u001b[0m\u001b[0;34m.\u001b[0m\u001b[0mclose\u001b[0m\u001b[0;34m(\u001b[0m\u001b[0;34m)\u001b[0m\u001b[0;34m\u001b[0m\u001b[0m\n\u001b[1;32m     35\u001b[0m \u001b[0;34m\u001b[0m\u001b[0m\n",
      "\u001b[0;31mTypeError\u001b[0m: sequence item 0: expected string, tuple found"
     ]
    }
   ],
   "source": [
    "a=arayi()\n",
    "x=a.generatePairs(\"/Users/nus/Documents/GitHub/Singability/data/ahp/\")\n",
    "theJobs=a.generateJobs(x,5)\n",
    "print theJobs\n",
    "a.generateData(theJobs,\"/Users/nus/Documents/GitHub/Singability/data/jobs.csv\")\n"
   ]
  }
 ],
 "metadata": {
  "kernelspec": {
   "display_name": "Python 2",
   "language": "python",
   "name": "python2"
  },
  "language_info": {
   "codemirror_mode": {
    "name": "ipython",
    "version": 2
   },
   "file_extension": ".py",
   "mimetype": "text/x-python",
   "name": "python",
   "nbconvert_exporter": "python",
   "pygments_lexer": "ipython2",
   "version": "2.7.13"
  }
 },
 "nbformat": 4,
 "nbformat_minor": 2
}
