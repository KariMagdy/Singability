{
 "cells": [
  {
   "cell_type": "code",
   "execution_count": 1,
   "metadata": {
    "collapsed": true
   },
   "outputs": [],
   "source": [
    "# Load required packages\n",
    "import pandas as pd\n",
    "import sklearn as sk\n",
    "import tensorflow as tf\n",
    "import numpy as np\n",
    "import scipy as sp\n",
    "import os\n",
    "import threading"
   ]
  },
  {
   "cell_type": "code",
   "execution_count": null,
   "metadata": {
    "collapsed": true
   },
   "outputs": [],
   "source": [
    "### Functions for feature extraction\n",
    "class arayi(object):\n",
    "    def __init__(self):\n",
    "        pass\n",
    "        \n",
    "    # Get list of tracks for extraction\n",
    "    def getTrackList(self,pathToTrack):\n",
    "        self.filelist = os.listdir(pathToTrack)\n",
    "        return self.filelist\n",
    "\n",
    "    # Extract Melodic Contours from Dataset\n",
    "    def extractMelody(self, pathToTrack,trackList):\n",
    "        self.extractStatus = 0.0\n",
    "        \n",
    "        # Extracts contour for a track snd saves output for each track\n",
    "        for track in trackList:\n",
    "            self.trackOut = \"/Users/nus/singability_data/contours/%s.yml\" % track.split(\".\")[0]\n",
    "            \n",
    "            os.system(\"essentia_streaming_predominantpitchmelodia %s %s\" % (pathToTrack+track, self.trackOut))\n",
    "#             if float(trackList.index(track)+1)/len(trackList) > self.extractStatus:\n",
    "#                 print \"Extracting...%s %% complete.\" % (self.extractStatus*100)\n",
    "#                 self.extractStatus += 0.33\n",
    "                \n",
    "    def threadMelodyExtract(self,pathToTrack,trackList):\n",
    "        ##TODO: Threading locks\n",
    "        threads = []        \n",
    "        for track in trackList:\n",
    "            if \".m4a\" not in track or \"_\" not in track:\n",
    "                continue\n",
    "            t = threading.Thread(target=a.extractMelody, args=(pathToTrack,track,))\n",
    "            threads.append(t)\n",
    "            t.start()\n",
    "            t.join()"
   ]
  },
  {
   "cell_type": "code",
   "execution_count": null,
   "metadata": {
    "collapsed": true
   },
   "outputs": [],
   "source": [
    "# Run Functions\n",
    "pathToTrack = \"/Users/nus/singability_data/\"\n",
    "a = arayi()\n",
    "tList = a.getTrackList(pathToTrack)\n",
    "a.threadMelodyExtract(pathToTrack,tList)\n"
   ]
  }
 ],
 "metadata": {
  "kernelspec": {
   "display_name": "Python 2",
   "language": "python",
   "name": "python2"
  },
  "language_info": {
   "codemirror_mode": {
    "name": "ipython",
    "version": 2
   },
   "file_extension": ".py",
   "mimetype": "text/x-python",
   "name": "python",
   "nbconvert_exporter": "python",
   "pygments_lexer": "ipython2",
   "version": "2.7.13"
  }
 },
 "nbformat": 4,
 "nbformat_minor": 2
}
