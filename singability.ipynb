{
 "cells": [
  {
   "cell_type": "code",
   "execution_count": 1,
   "metadata": {},
   "outputs": [
    {
     "name": "stderr",
     "output_type": "stream",
     "text": [
      "Using TensorFlow backend.\n"
     ]
    },
    {
     "name": "stdout",
     "output_type": "stream",
     "text": [
      "Packages loaded\n"
     ]
    }
   ],
   "source": [
    "# Load required packages\n",
    "import pandas as pd\n",
    "import sklearn as sk\n",
    "import tensorflow as tf\n",
    "import numpy as np\n",
    "import scipy as sp\n",
    "import os\n",
    "import threading\n",
    "import multiprocessing\n",
    "import pickle\n",
    "import keras\n",
    "\n",
    "print \"Packages loaded\"\n"
   ]
  },
  {
   "cell_type": "code",
   "execution_count": 2,
   "metadata": {
    "collapsed": true
   },
   "outputs": [],
   "source": [
    "### Functions for feature extraction\n",
    "class arayi(object):\n",
    "    def __init__(self):\n",
    "        pass\n",
    "        \n",
    "    # Get list of tracks for extraction\n",
    "    def getTrackList(self,pathToTrack,listBool,trackName):\n",
    "        if listBool == False:\n",
    "            self.filelist=[]\n",
    "            with open(pathToTrack+\"/metadata/perfs.csv\",\"r\") as perfData:\n",
    "                perfData.next()\n",
    "                for line in perfData:\n",
    "                    line=line.split(\",\")\n",
    "                    if (line[2].replace(\"_\",\" \").lstrip().rstrip() == trackName and line[6].rstrip() == \"EN\"):\n",
    "                        self.filelist.append(line[1])\n",
    "            self.filelist=tuple(self.filelist)\n",
    "            return self.filelist\n",
    "        else:\n",
    "            self.filelist = os.listdir(pathToTrack)            \n",
    "            return self.list\n",
    "\n",
    "    # Extract Melodic Contours from Dataset\n",
    "    def extractMelody(self, pathToTrack,trackList):\n",
    "        self.extractStatus = 0.0\n",
    "        pathToTrack = pathToTrack+\"raw/\"\n",
    "        # Extracts contour for a track snd saves output for each track\n",
    "        for track in trackList:\n",
    "            self.trackOut = \"/Users/nus/singability_data/contours/%s.yml\" % track.split(\".\")[0]\n",
    "            os.system(\"essentia_streaming_predominantpitchmelodia %s %s\" % (pathToTrack+track+\".m4a\", self.trackOut))\n",
    "            if float(trackList.index(track)+1)/len(trackList) > self.extractStatus:\n",
    "                print \"Extracting...%s %% complete.\" % (self.extractStatus*100)\n",
    "                self.extractStatus += 0.33"
   ]
  },
  {
   "cell_type": "code",
   "execution_count": 3,
   "metadata": {
    "collapsed": true
   },
   "outputs": [],
   "source": [
    "## Threaded feature extraction - Needs work\n",
    "def threadMelodyExtract(self,pathToTrack,trackList):\n",
    "    ##TODO: Threading locks\n",
    "    threads = []\n",
    "    t=[]\n",
    "    for track in trackList:\n",
    "        if \".m4a\" not in track or \"_\" not in track:\n",
    "            continue\n",
    "        t = threading.Thread(target=a.extractMelody, args=(pathToTrack,track,))\n",
    "        threads.append(t)\n",
    "        if len(threads) > 9:\n",
    "            t.start()\n",
    "            t.join()\n",
    "            t=[]\n",
    "            threads=[]\n",
    "\n",
    "# def threadMelodyExtract2(self,pathToTrack,trackList):\n",
    "#     ##TODO: Threading locks\n",
    "#     lock = threading.Lock()\n",
    "#     threads = []\n",
    "#     for track in trackList:\n",
    "#         if \".m4a\" not in track or \"_\" not in track:\n",
    "#             continue\n",
    "#         t = threading.Thread(target=a.extractMelody, args=(pathToTrack,track,))\n",
    "#         lock.acquire()\n",
    "#         if not lock.acquire(False):\n",
    "#             print \"Fail\"\n",
    "#         else:\n",
    "#             try:\n",
    "#                 t.start()\n",
    "#                 t.join()\n",
    "#         finally:\n",
    "#             lock.release()\n",
    "            \n",
    "# arayi.threadMelodyExtract = threadMelodyExtract\n",
    "# arayi.threadMelodyExtract2 = threadMelodyExtract2"
   ]
  },
  {
   "cell_type": "code",
   "execution_count": 5,
   "metadata": {
    "collapsed": true
   },
   "outputs": [],
   "source": [
    "def loadContourData(self,pathToContours):\n",
    "    cList=os.listdir(pathToContours)\n",
    "    self.contourMatrix = []\n",
    "    for contour in cList:\n",
    "        if \".yml\" not in contour:\n",
    "            continue\n",
    "        x=list(open(pathToContours+contour,\"r\"))\n",
    "        x=map(float,x[7].lstrip().replace(\"pitch: \",\"\").replace(\"[\",\"\").replace(\"]\",\"\").split(\",\"))\n",
    "        self.contourMatrix.append(x)\n",
    "    df = pd.DataFrame(self.contourMatrix,columns=None)\n",
    "    return df\n",
    "\n",
    "def excludeData(self,contourList):\n",
    "    # THIS FUNCTION WILL CHECK ALL OF THE COMPLETED CONTOURS TO A LIST OF APPLICABLE SONGS.\n",
    "    pass\n",
    "\n",
    "arayi.loadContourData = loadContourData\n",
    "a=arayi()\n",
    "df=a.loadContourData(\"/Users/nus/singability_data/contours/\")"
   ]
  },
  {
   "cell_type": "code",
   "execution_count": 15,
   "metadata": {},
   "outputs": [
    {
     "ename": "SyntaxError",
     "evalue": "invalid syntax (<ipython-input-15-a789f1731465>, line 5)",
     "output_type": "error",
     "traceback": [
      "\u001b[0;36m  File \u001b[0;32m\"<ipython-input-15-a789f1731465>\"\u001b[0;36m, line \u001b[0;32m5\u001b[0m\n\u001b[0;31m    row=[0.0 else x for x in row if x != \"NaN\"]\u001b[0m\n\u001b[0m                ^\u001b[0m\n\u001b[0;31mSyntaxError\u001b[0m\u001b[0;31m:\u001b[0m invalid syntax\n"
     ]
    }
   ],
   "source": [
    "#df.to_pickle(\"/Users/nus/Documents/Github/Singability/letItGo.pkl\")\n",
    "#df = pickle.load(open(\"/Users/nus/Documents/Github/Singability/letItGo.pkl\",\"rb\"))\n",
    "df=df.transpose()\n",
    "for index, row in df.iterrows():\n",
    "    row=[0.0 if x != \"NaN\" else x for x in row]\n",
    "    print index,len(row)\n",
    "    if index > 10:\n",
    "        break\n"
   ]
  },
  {
   "cell_type": "code",
   "execution_count": 124,
   "metadata": {},
   "outputs": [
    {
     "name": "stdout",
     "output_type": "stream",
     "text": [
      "Extracting...0.0 % complete.\n",
      "Extracting...33.0 % complete.\n",
      "Extracting...66.0 % complete.\n",
      "Extracting...99.0 % complete.\n"
     ]
    },
    {
     "data": {
      "text/plain": [
       "'\\nNUM_WORKERS = 4\\nprocesses = [multiprocessing.Process(target=a.extractMelody(pathToTrack,tList)) for _ in range(NUM_WORKERS)]\\nprint \"Starting Process\"\\n[process.start() for process in processes]\\nprint \"Joining process\"\\n[process.join() for process in processes]\\n'"
      ]
     },
     "execution_count": 124,
     "metadata": {},
     "output_type": "execute_result"
    }
   ],
   "source": [
    "# Run Functions\n",
    "pathToTrack = \"/Users/nus/singability_data/\"\n",
    "a = arayi()\n",
    "tList = a.getTrackList(pathToTrack, False, \"let it go\")\n",
    "a.extractMelody(pathToTrack, tList)\n",
    "\n",
    "\n",
    "# a.threadMelodyExtract(pathToTrack,tList)\n",
    "\n",
    "'''\n",
    "NUM_WORKERS = 4\n",
    "processes = [multiprocessing.Process(target=a.extractMelody(pathToTrack,tList)) for _ in range(NUM_WORKERS)]\n",
    "print \"Starting Process\"\n",
    "[process.start() for process in processes]\n",
    "print \"Joining process\"\n",
    "[process.join() for process in processes]\n",
    "'''\n"
   ]
  }
 ],
 "metadata": {
  "kernelspec": {
   "display_name": "Python 2",
   "language": "python",
   "name": "python2"
  },
  "language_info": {
   "codemirror_mode": {
    "name": "ipython",
    "version": 2
   },
   "file_extension": ".py",
   "mimetype": "text/x-python",
   "name": "python",
   "nbconvert_exporter": "python",
   "pygments_lexer": "ipython2",
   "version": "2.7.13"
  }
 },
 "nbformat": 4,
 "nbformat_minor": 2
}
