{
 "cells": [
  {
   "cell_type": "code",
   "execution_count": 12,
   "metadata": {
    "collapsed": true
   },
   "outputs": [],
   "source": [
    "# Load required packages\n",
    "import pandas as pd\n",
    "import sklearn as sk\n",
    "import tensorflow as tf\n",
    "import numpy as np\n",
    "import scipy as sp\n",
    "import os"
   ]
  },
  {
   "cell_type": "code",
   "execution_count": 99,
   "metadata": {},
   "outputs": [],
   "source": [
    "### Functions for feature extraction\n",
    "class arayi(object):\n",
    "    def __init__(self):\n",
    "        pass\n",
    "        \n",
    "    # Get list of tracks for extraction\n",
    "    def getTrackList(self,pathToTrack):\n",
    "        self.filelist = os.listdir(pathToTrack)\n",
    "        return self.filelist\n",
    "\n",
    "    # Extract Melodic Contours from Dataset\n",
    "    def extractMelody(self, pathToTrack,trackList):\n",
    "        self.extractStatus = 0.0\n",
    "        \n",
    "        # Extracts contour for a track snd saves output for each track\n",
    "        for track in trackList:\n",
    "            self.trackOut = \"/Users/nus/singability_data/contours/%s.yml\" % track.split(\".\")[0]\n",
    "            \n",
    "            os.system(\"essentia_streaming_predominantpitchmelodia %s %s\" % (pathToTrack+track, self.trackOut))\n",
    "            if float(trackList.index(track)+1)/len(trackList) > self.extractStatus:\n",
    "                print \"Extracting...%s %% complete.\" % (self.extractStatus*100)\n",
    "                self.extractStatus += 0.33\n",
    "\n",
    "        print \"Extraction Complete\""
   ]
  },
  {
   "cell_type": "code",
   "execution_count": 100,
   "metadata": {},
   "outputs": [
    {
     "name": "stdout",
     "output_type": "stream",
     "text": [
      "essentia_streaming_predominantpitchmelodia /Users/nus/demo/100051353_24723629.m4a /Users/nus/singability_data/contours/100051353_24723629.yml\n",
      "Extracting...0.0 % complete.\n",
      "essentia_streaming_predominantpitchmelodia /Users/nus/demo/100051353_24990810.m4a /Users/nus/singability_data/contours/100051353_24990810.yml\n",
      "essentia_streaming_predominantpitchmelodia /Users/nus/demo/100051353_27229310.m4a /Users/nus/singability_data/contours/100051353_27229310.yml\n",
      "essentia_streaming_predominantpitchmelodia /Users/nus/demo/100051353_28084528.m4a /Users/nus/singability_data/contours/100051353_28084528.yml\n",
      "Extracting...33.0 % complete.\n",
      "essentia_streaming_predominantpitchmelodia /Users/nus/demo/100051353_28943663.m4a /Users/nus/singability_data/contours/100051353_28943663.yml\n",
      "essentia_streaming_predominantpitchmelodia /Users/nus/demo/100051353_28944419.m4a /Users/nus/singability_data/contours/100051353_28944419.yml\n",
      "essentia_streaming_predominantpitchmelodia /Users/nus/demo/100051353_28968794.m4a /Users/nus/singability_data/contours/100051353_28968794.yml\n",
      "Extracting...66.0 % complete.\n",
      "essentia_streaming_predominantpitchmelodia /Users/nus/demo/100051353_30496600.m4a /Users/nus/singability_data/contours/100051353_30496600.yml\n",
      "essentia_streaming_predominantpitchmelodia /Users/nus/demo/100051353_35322758.m4a /Users/nus/singability_data/contours/100051353_35322758.yml\n",
      "essentia_streaming_predominantpitchmelodia /Users/nus/demo/100051353_35401257.m4a /Users/nus/singability_data/contours/100051353_35401257.yml\n",
      "Extracting...99.0 % complete.\n",
      "Extraction Complete\n"
     ]
    }
   ],
   "source": [
    "# Run Functions\n",
    "pathToTrack = \"/Users/nus/demo/\"\n",
    "a = arayi()\n",
    "tList = a.getTrackList(pathToTrack)\n",
    "a.extractMelody(pathToTrack,tList)\n"
   ]
  }
 ],
 "metadata": {
  "kernelspec": {
   "display_name": "Python 2",
   "language": "python",
   "name": "python2"
  },
  "language_info": {
   "codemirror_mode": {
    "name": "ipython",
    "version": 2
   },
   "file_extension": ".py",
   "mimetype": "text/x-python",
   "name": "python",
   "nbconvert_exporter": "python",
   "pygments_lexer": "ipython2",
   "version": "2.7.13"
  }
 },
 "nbformat": 4,
 "nbformat_minor": 2
}
