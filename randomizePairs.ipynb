{
 "cells": [
  {
   "cell_type": "code",
   "execution_count": 12,
   "metadata": {
    "collapsed": true
   },
   "outputs": [],
   "source": [
    "import os\n",
    "import itertools\n",
    "\n",
    "class arayi(object):\n",
    "    def __init__(self):\n",
    "        pass\n",
    "    \n",
    "    def generatePairs(self,filePath):\n",
    "        self.x=os.listdir(filePath)\n",
    "        perms=tuple(itertools.combinations(self.x,2))\n",
    "        return perms\n",
    "        "
   ]
  },
  {
   "cell_type": "code",
   "execution_count": 11,
   "metadata": {},
   "outputs": [
    {
     "name": "stdout",
     "output_type": "stream",
     "text": [
      "[('test1.mp3', 'test2.mp3'), ('test1.mp3', 'test3.mp3'), ('test1.mp3', 'test4.mp3'), ('test2.mp3', 'test3.mp3'), ('test2.mp3', 'test4.mp3'), ('test3.mp3', 'test4.mp3')]\n"
     ]
    }
   ],
   "source": [
    "a=arayi()\n",
    "x=a.generatePairs(\"/Users/nus/Documents/GitHub/Singability/data/ahp/\")\n",
    "print x"
   ]
  }
 ],
 "metadata": {
  "kernelspec": {
   "display_name": "Python 2",
   "language": "python",
   "name": "python2"
  },
  "language_info": {
   "codemirror_mode": {
    "name": "ipython",
    "version": 2
   },
   "file_extension": ".py",
   "mimetype": "text/x-python",
   "name": "python",
   "nbconvert_exporter": "python",
   "pygments_lexer": "ipython2",
   "version": "2.7.13"
  }
 },
 "nbformat": 4,
 "nbformat_minor": 2
}
