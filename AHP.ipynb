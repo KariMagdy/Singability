{
 "cells": [
  {
   "cell_type": "code",
   "execution_count": 39,
   "metadata": {},
   "outputs": [],
   "source": [
    "import os\n",
    "import itertools, random,glob\n",
    "import subprocess\n",
    "\n",
    "\n",
    "class arayi(object):\n",
    "    def __init__(self):\n",
    "        pass\n",
    "    \n",
    "    def generatePairs(self,filePath):\n",
    "        self.x=os.listdir(filePath)\n",
    "        perms=list(itertools.combinations(self.x,2))\n",
    "        return perms\n",
    "        \n",
    "    def generateJobs(self,pairs,tasks):\n",
    "        self.oneJob,self.jobs=[],[]\n",
    "        self.temp=pairs\n",
    "        while len(self.temp) > 0:\n",
    "            if len(self.temp) >= tasks:\n",
    "                self.shuffle=random.sample(self.temp,tasks)\n",
    "                self.jobs+=[self.shuffle]\n",
    "                for pair in self.shuffle:\n",
    "                    self.temp.pop(self.temp.index(pair))\n",
    "            else:\n",
    "                self.jobs+=[self.temp]\n",
    "                break\n",
    "        for line in theJobs:\n",
    "#         job=''\n",
    "#         for pair in line:\n",
    "#             pair=\"\\t\".join(pair)\n",
    "#             job+=pair+\"\\t\"\n",
    "#         print job+\"\\n\"\n",
    "        return self.jobs\n",
    "    \n",
    "    def generateData(self,jobs,csvOut):\n",
    "        ### NEEDS MORE WORK.  MUST SEPARATE PAIRS INTO UNIQUE COLUMNS\n",
    "        print csvOut\n",
    "        fileOut=open(csvOut,\"w\")\n",
    "        jobNumber=len(jobs[0])\n",
    "        fileOut.write(\",\".join([\"link%s\" % x for x in range(1,(jobNumber+1)*2)])+\"\\n\")\n",
    "        for job in jobs:\n",
    "            fileOut.write(\",\".join(job)+\"\\n\")\n",
    "        fileOut.close()\n",
    "\n",
    "    def extractSamples(self, filePath, sliceTime,timeDict):\n",
    "        self.files=glob.glob(filePath+\"/*\")\n",
    "        cmdlist=[]\n",
    "        for theFile in self.files:\n",
    "            fileKey=theFile.split(\"/\")[-1]\n",
    "            fileOut=theFile.replace(fileKey,fileKey.split(\".\")[0]+\"_split.mp3\")\n",
    "            fileOut=fileOut.replace(\"/songs/\",\"/splits/\")\n",
    "            command=\"ffmpeg -ss %s -t %s -i %s %s\"  % (timeDict[fileKey], str(sliceTime), theFile, fileOut)\n",
    "            cmdlist.append(command)\n",
    "        subprocess.call(\";\".join(cmdlist), shell=True)\n"
   ]
  },
  {
   "cell_type": "code",
   "execution_count": 47,
   "metadata": {},
   "outputs": [
    {
     "name": "stdout",
     "output_type": "stream",
     "text": [
      "43_pop_2013_split.mp3\t50_pop_2011_split.mp3\t42_rap_2011_split.mp3\t50_pop_2011_split.mp3\t43_pop_2013_split.mp3\t48_rap_2012_split.mp3\t45_rock_2013_split.mp3\t50_pop_2011_split.mp3\t46_alt_2013_split.mp3\t48_rap_2012_split.mp3\t\n",
      "\n",
      "44_country_2013_split.mp3\t50_pop_2011_split.mp3\t46_alt_2013_split.mp3\t49_country_2011_split.mp3\t47_alt_2012_split.mp3\t50_pop_2011_split.mp3\t45_rock_2013_split.mp3\t47_alt_2012_split.mp3\t42_rap_2011_split.mp3\t49_country_2011_split.mp3\t\n",
      "\n",
      "45_rock_2013_split.mp3\t49_country_2011_split.mp3\t43_pop_2013_split.mp3\t45_rock_2013_split.mp3\t41_rock_2015_split.mp3\t48_rap_2012_split.mp3\t41_rock_2015_split.mp3\t43_pop_2013_split.mp3\t47_alt_2012_split.mp3\t49_country_2011_split.mp3\t\n",
      "\n",
      "47_alt_2012_split.mp3\t48_rap_2012_split.mp3\t42_rap_2011_split.mp3\t45_rock_2013_split.mp3\t41_rock_2015_split.mp3\t46_alt_2013_split.mp3\t45_rock_2013_split.mp3\t48_rap_2012_split.mp3\t44_country_2013_split.mp3\t46_alt_2013_split.mp3\t\n",
      "\n",
      "44_country_2013_split.mp3\t45_rock_2013_split.mp3\t46_alt_2013_split.mp3\t50_pop_2011_split.mp3\t46_alt_2013_split.mp3\t47_alt_2012_split.mp3\t41_rock_2015_split.mp3\t44_country_2013_split.mp3\t42_rap_2011_split.mp3\t43_pop_2013_split.mp3\t\n",
      "\n",
      "44_country_2013_split.mp3\t47_alt_2012_split.mp3\t49_country_2011_split.mp3\t50_pop_2011_split.mp3\t44_country_2013_split.mp3\t49_country_2011_split.mp3\t41_rock_2015_split.mp3\t50_pop_2011_split.mp3\t48_rap_2012_split.mp3\t49_country_2011_split.mp3\t\n",
      "\n",
      "42_rap_2011_split.mp3\t44_country_2013_split.mp3\t42_rap_2011_split.mp3\t47_alt_2012_split.mp3\t43_pop_2013_split.mp3\t47_alt_2012_split.mp3\t43_pop_2013_split.mp3\t46_alt_2013_split.mp3\t41_rock_2015_split.mp3\t47_alt_2012_split.mp3\t\n",
      "\n",
      "44_country_2013_split.mp3\t48_rap_2012_split.mp3\t43_pop_2013_split.mp3\t44_country_2013_split.mp3\t42_rap_2011_split.mp3\t48_rap_2012_split.mp3\t43_pop_2013_split.mp3\t49_country_2011_split.mp3\t41_rock_2015_split.mp3\t42_rap_2011_split.mp3\t\n",
      "\n",
      "45_rock_2013_split.mp3\t46_alt_2013_split.mp3\t42_rap_2011_split.mp3\t46_alt_2013_split.mp3\t41_rock_2015_split.mp3\t49_country_2011_split.mp3\t48_rap_2012_split.mp3\t50_pop_2011_split.mp3\t41_rock_2015_split.mp3\t45_rock_2013_split.mp3\t\n",
      "\n"
     ]
    }
   ],
   "source": [
    "a=arayi()\n",
    "x=a.generatePairs(\"/Users/nus/Documents/GitHub/Singability/data/splits/\")\n",
    "\n",
    "timeDict={\"41_rock_2015.mp3\": \"38\",\"42_rap_2011.mp3\": \"47\",\"43_pop_2013.mp3\": \"44\",\"44_country_2013.mp3\": \"36\",\"45_rock_2013.mp3\": \"167\",\"46_alt_2013.mp3\": \"69\",\"47_alt_2012.mp3\": \"67\",\"48_rap_2012.mp3\": \"90\",\"49_country_2011.mp3\": \"89\",\"50_pop_2011.mp3\": \"75\"}\n",
    "# a.extractSamples(\"/Users/nus/Documents/GitHub/Singability/data/songs/\",15,timeDict)\n",
    "\n",
    "theJobs=a.generateJobs(x,5)\n",
    "\n",
    "# a.generateData(theJobs,\"/Users/nus/Documents/GitHub/Singability/data/jobs.csv\")\n",
    "\n",
    "\n",
    "# ffmpeg -ss 10 -t 6 -i input.mp3 output.mp3\n",
    "\n",
    "\n"
   ]
  }
 ],
 "metadata": {
  "kernelspec": {
   "display_name": "Python 2",
   "language": "python",
   "name": "python2"
  },
  "language_info": {
   "codemirror_mode": {
    "name": "ipython",
    "version": 2
   },
   "file_extension": ".py",
   "mimetype": "text/x-python",
   "name": "python",
   "nbconvert_exporter": "python",
   "pygments_lexer": "ipython2",
   "version": "2.7.13"
  }
 },
 "nbformat": 4,
 "nbformat_minor": 2
}
